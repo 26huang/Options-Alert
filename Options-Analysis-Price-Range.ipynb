{
 "cells": [
  {
   "cell_type": "code",
   "execution_count": null,
   "id": "dfe28978",
   "metadata": {},
   "outputs": [],
   "source": [
    "import pandas as pd\n",
    "import glob\n",
    "import datetime"
   ]
  },
  {
   "cell_type": "code",
   "execution_count": null,
   "id": "e4a0f187",
   "metadata": {},
   "outputs": [],
   "source": [
    "def extract_data(data_in):\n",
    "    option_type = data_in.columns[-2:]\n",
    "    data_out = pd.DataFrame(columns=['optiontype', 'date', 'underlying_price', 'strike', 'description', 'delta', 'openinterest', 'total_investment'])\n",
    "    underlying_price = data_in['underlyingPrice'][0]\n",
    "    for option in option_type:\n",
    "        dates = data_in[option].keys()\n",
    "        for date in dates:\n",
    "            openinterest = []\n",
    "            description = []\n",
    "            delta = []\n",
    "            strikes = data_in[option][date].keys()\n",
    "            for strike in strikes:\n",
    "                openinterest.append(data_in[option][date][strike][0]['openInterest'])\n",
    "                description.append(data_in[option][date][strike][0]['description'])\n",
    "                delta.append(data_in[option][date][strike][0]['delta'])\n",
    "            temp = pd.DataFrame()\n",
    "            temp['openinterest'] = openinterest\n",
    "            temp['strike'] = strikes\n",
    "            temp['date'] = date.split(':')[0]\n",
    "            temp['optiontype'] = option[:-10]\n",
    "            temp['description'] = description\n",
    "            temp['delta'] = delta\n",
    "            data_out = data_out.append(temp)\n",
    "    data_out['underlying_price'] = underlying_price\n",
    "    data_out['total_investment'] = data_out.apply(lambda x: float(x.delta) * float(x.openinterest) * float(x.underlying_price) * 100, axis=1)\n",
    "    data_out['impact'] = data_out['total_investment'].apply(lambda x: abs(x))\n",
    "    return data_out"
   ]
  },
  {
   "cell_type": "code",
   "execution_count": null,
   "id": "dde01ead",
   "metadata": {},
   "outputs": [],
   "source": [
    "datapath = './Data'\n",
    "def get_files(datapath):\n",
    "    files = glob.glob(datapath+'/*chain*.json')\n",
    "    files.sort()\n",
    "    return files"
   ]
  },
  {
   "cell_type": "code",
   "execution_count": null,
   "id": "63a86de8",
   "metadata": {},
   "outputs": [],
   "source": [
    "def get_price_range(file):\n",
    "    data_in = pd.read_json(file)\n",
    "    data_out = extract_data(data_in)\n",
    "    expiration_dates = list(data_out['date'].unique())\n",
    "    \n",
    "    price_low = []\n",
    "    price_high = []\n",
    "    price_underlying = []\n",
    "\n",
    "    for date in expiration_dates:\n",
    "        call_data = data_out[(data_out['date']==date) & (data_out['optiontype']=='call')].sort_values('impact', ascending=False).reset_index(drop=True)\n",
    "        call_invested = call_data['impact'].sum()\n",
    "        call_data['impact_percent'] = call_data['impact'].apply(lambda x: x/call_invested)\n",
    "        call_data['impact_price'] = call_data.apply(lambda x: x.impact_percent*float(x.strike), axis=1)\n",
    "        price_low.append(call_data['impact_price'].sum())\n",
    "\n",
    "        put_data = data_out[(data_out['date']==date) & (data_out['optiontype']=='put')].sort_values('impact', ascending=False).reset_index(drop=True)\n",
    "        put_invested = put_data['impact'].sum()\n",
    "        put_data['impact_percent'] = put_data['impact'].apply(lambda x: x/put_invested)\n",
    "        put_data['impact_price'] = put_data.apply(lambda x: x.impact_percent*float(x.strike), axis=1)\n",
    "        price_high.append(put_data['impact_price'].sum())\n",
    "        \n",
    "        price_underlying.append(call_data['underlying_price'].max())\n",
    "\n",
    "    price_range = pd.DataFrame()\n",
    "    price_range['date'] = expiration_dates\n",
    "    price_range['call_thresh']  = price_low\n",
    "    price_range['put_thresh'] = price_high\n",
    "    price_range['underlying'] = price_underlying\n",
    "    return price_range"
   ]
  },
  {
   "cell_type": "markdown",
   "id": "0be26830",
   "metadata": {},
   "source": [
    "# Get price range for expiration"
   ]
  },
  {
   "cell_type": "code",
   "execution_count": null,
   "id": "305977ee",
   "metadata": {},
   "outputs": [],
   "source": [
    "files = get_files(datapath)"
   ]
  },
  {
   "cell_type": "code",
   "execution_count": null,
   "id": "b312e8f6",
   "metadata": {},
   "outputs": [],
   "source": [
    "price_range = get_price_range(files[-1])"
   ]
  },
  {
   "cell_type": "markdown",
   "id": "1cdcf445",
   "metadata": {},
   "source": [
    "# Backtesting"
   ]
  },
  {
   "cell_type": "code",
   "execution_count": null,
   "id": "0fba68c3",
   "metadata": {},
   "outputs": [],
   "source": [
    "master_df = pd.DataFrame()\n",
    "for file in files:\n",
    "    price_range = get_price_range(file)\n",
    "    master_df = pd.concat([master_df, price_range])"
   ]
  },
  {
   "cell_type": "code",
   "execution_count": null,
   "id": "2fb83970",
   "metadata": {},
   "outputs": [],
   "source": [
    "expirations = master_df['date'].unique()\n",
    "expirations.sort()"
   ]
  },
  {
   "cell_type": "code",
   "execution_count": null,
   "id": "bbef7ce3",
   "metadata": {},
   "outputs": [],
   "source": [
    "expirations"
   ]
  },
  {
   "cell_type": "code",
   "execution_count": null,
   "id": "68be857c",
   "metadata": {
    "scrolled": true
   },
   "outputs": [],
   "source": [
    "expiration = '2021-07-02'\n",
    "master_df[(master_df['date']==expiration) & master_df['call_thresh'] != 0.0].reset_index(drop=True).plot(y=['call_thresh', 'put_thresh', 'underlying'], grid=True)"
   ]
  },
  {
   "cell_type": "code",
   "execution_count": null,
   "id": "ea969106",
   "metadata": {},
   "outputs": [],
   "source": []
  },
  {
   "cell_type": "code",
   "execution_count": null,
   "id": "2a605ee4",
   "metadata": {},
   "outputs": [],
   "source": [
    "for expiration in expirations:\n",
    "    master_df[(master_df['date']==expiration) & master_df['call_thresh'] != 0.0].reset_index(drop=True).plot(y=['call_thresh', 'put_thresh', 'underlying'], title=expiration, grid=True)"
   ]
  },
  {
   "cell_type": "markdown",
   "id": "4cf5612a",
   "metadata": {},
   "source": [
    "# Generate plot"
   ]
  },
  {
   "cell_type": "code",
   "execution_count": null,
   "id": "f6a2010f",
   "metadata": {},
   "outputs": [],
   "source": [
    "import matplotlib.pyplot as plt\n",
    "%matplotlib inline\n",
    "import numpy as np"
   ]
  },
  {
   "cell_type": "code",
   "execution_count": null,
   "id": "30269a5f",
   "metadata": {
    "scrolled": true
   },
   "outputs": [],
   "source": [
    "fig = plt.figure()\n",
    "x = price_range['date']\n",
    "xn = range(len(x))\n",
    "plt.xticks(xn, x, fontsize=12, rotation=90)\n",
    "plt.plot(xn, price_range['low'], marker=None, color='red')\n",
    "plt.plot(xn, price_range['high'], marker=None, color='green')\n",
    "plt.yticks(np.arange(0.9*min(price_range['low']), 1.1*max(price_range['low']), 100.0))\n",
    "plt.grid()\n",
    "import datetime\n",
    "date_string = datetime.datetime.today().strftime(\"%Y-%m-%d\")\n",
    "plt.savefig('./Data/{}.png'.format(date_string))"
   ]
  },
  {
   "cell_type": "code",
   "execution_count": null,
   "id": "fdd00e01",
   "metadata": {},
   "outputs": [],
   "source": [
    "import base64\n",
    "import datetime\n",
    "date_string = datetime.datetime.today().strftime(\"%Y-%m-%d\")\n",
    "data_uri = base64.b64encode(open('Data/{}.png'.format(date_string), 'rb').read()).decode('utf-8')\n",
    "img_tag = '<img src=\"data:image/png;base64,{0}\">'.format(data_uri)\n",
    "print(img_tag)"
   ]
  }
 ],
 "metadata": {
  "kernelspec": {
   "display_name": "Python 3",
   "language": "python",
   "name": "python3"
  },
  "language_info": {
   "codemirror_mode": {
    "name": "ipython",
    "version": 3
   },
   "file_extension": ".py",
   "mimetype": "text/x-python",
   "name": "python",
   "nbconvert_exporter": "python",
   "pygments_lexer": "ipython3",
   "version": "3.8.8"
  }
 },
 "nbformat": 4,
 "nbformat_minor": 5
}
