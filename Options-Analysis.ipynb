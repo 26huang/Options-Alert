{
 "cells": [
  {
   "cell_type": "code",
   "execution_count": null,
   "id": "5ed327f2",
   "metadata": {},
   "outputs": [],
   "source": [
    "import pandas as pd\n",
    "import json\n",
    "import glob"
   ]
  },
  {
   "cell_type": "code",
   "execution_count": null,
   "id": "4a4fcdea",
   "metadata": {},
   "outputs": [],
   "source": [
    "datapath = './Data'"
   ]
  },
  {
   "cell_type": "code",
   "execution_count": null,
   "id": "0f589fde",
   "metadata": {},
   "outputs": [],
   "source": [
    "files = glob.glob(datapath+'/*chain*.json')\n",
    "files.sort()"
   ]
  },
  {
   "cell_type": "code",
   "execution_count": null,
   "id": "ca049fcf",
   "metadata": {},
   "outputs": [],
   "source": [
    "def extract_openinterest(data_in):\n",
    "    option_type = ['callExpDateMap', 'putExpDateMap']\n",
    "    data_out = pd.DataFrame(columns=['optiontype', 'date', 'strike', 'openinterest'])\n",
    "    for option in option_type:\n",
    "        dates = data_in[option].keys()\n",
    "        for date in dates:\n",
    "            openinterest = []\n",
    "            strikes = data_in[option][date].keys()\n",
    "            for strike in strikes:\n",
    "                openinterest.append(data_in[option][date][strike][0]['openInterest'])\n",
    "            temp = pd.DataFrame()\n",
    "            temp['openinterest'] = openinterest\n",
    "            temp['strike'] = strikes\n",
    "            temp['date'] = date.split(':')[0]\n",
    "            temp['optiontype'] = option[:-10]\n",
    "            data_out = data_out.append(temp)\n",
    "    return data_out"
   ]
  },
  {
   "cell_type": "code",
   "execution_count": null,
   "id": "73cc9cd7",
   "metadata": {},
   "outputs": [],
   "source": [
    "data_in = pd.read_json(files[0])\n",
    "data_out = extract_openinterest(data_in)"
   ]
  },
  {
   "cell_type": "code",
   "execution_count": null,
   "id": "7972c5a7",
   "metadata": {},
   "outputs": [],
   "source": [
    "d1.to_excel('./Data/processed_chain.xlsx', index=False)"
   ]
  },
  {
   "cell_type": "code",
   "execution_count": null,
   "id": "8e3f77c1",
   "metadata": {},
   "outputs": [],
   "source": [
    "data_out[data_out['optiontype']=='call'].sort_values('openinterest', ascending=False)"
   ]
  },
  {
   "cell_type": "code",
   "execution_count": null,
   "id": "f71e1a87",
   "metadata": {},
   "outputs": [],
   "source": [
    "data_out[data_out['optiontype']=='put'].sort_values('openinterest', ascending=False)"
   ]
  },
  {
   "cell_type": "code",
   "execution_count": null,
   "id": "c7de38c0",
   "metadata": {},
   "outputs": [],
   "source": [
    "data_out.sort_values('openinterest', ascending=False).head(10)"
   ]
  },
  {
   "cell_type": "code",
   "execution_count": null,
   "id": "4f67998f",
   "metadata": {},
   "outputs": [],
   "source": [
    "data_in = pd.read_json(files[1])\n",
    "d2 = extract_openinterest(data_in)"
   ]
  },
  {
   "cell_type": "code",
   "execution_count": null,
   "id": "04f5d917",
   "metadata": {},
   "outputs": [],
   "source": [
    "d2.sort_values('openinterest', ascending=False).head(10)"
   ]
  },
  {
   "cell_type": "code",
   "execution_count": null,
   "id": "3a8e7fcc",
   "metadata": {},
   "outputs": [],
   "source": [
    "data_out['name'] = data_out.apply(lambda x: (x.optiontype+'_'+x.date+'_'+x.strike), axis=1)\n",
    "d2['name'] = d2.apply(lambda x: (x.optiontype+'_'+x.date+'_'+x.strike), axis=1)"
   ]
  },
  {
   "cell_type": "code",
   "execution_count": null,
   "id": "a643c2e0",
   "metadata": {},
   "outputs": [],
   "source": [
    "data_out = data_out[['name', 'openinterest']]"
   ]
  },
  {
   "cell_type": "code",
   "execution_count": null,
   "id": "5ba56e38",
   "metadata": {},
   "outputs": [],
   "source": [
    "d2 = d2[['name', 'openinterest']]"
   ]
  },
  {
   "cell_type": "code",
   "execution_count": null,
   "id": "56a48437",
   "metadata": {},
   "outputs": [],
   "source": [
    "merged_df = pd.merge(data_out, d2, on='name', suffixes=(\"_before\", \"_after\"))"
   ]
  },
  {
   "cell_type": "code",
   "execution_count": null,
   "id": "dbcd8875",
   "metadata": {},
   "outputs": [],
   "source": [
    "merged_df['change'] = merged_df.apply(lambda x: x.openinterest_after-x.openinterest_before, axis=1)"
   ]
  },
  {
   "cell_type": "code",
   "execution_count": null,
   "id": "d21c6cd9",
   "metadata": {},
   "outputs": [],
   "source": [
    "merged_df.sort_values('change', ascending=False)"
   ]
  },
  {
   "cell_type": "code",
   "execution_count": null,
   "id": "4c02baa9",
   "metadata": {},
   "outputs": [],
   "source": [
    "merged_df.sort_values('change', ascending=True)"
   ]
  },
  {
   "cell_type": "code",
   "execution_count": null,
   "id": "91c36dbe",
   "metadata": {},
   "outputs": [],
   "source": []
  }
 ],
 "metadata": {
  "kernelspec": {
   "display_name": "Python 3",
   "language": "python",
   "name": "python3"
  },
  "language_info": {
   "codemirror_mode": {
    "name": "ipython",
    "version": 3
   },
   "file_extension": ".py",
   "mimetype": "text/x-python",
   "name": "python",
   "nbconvert_exporter": "python",
   "pygments_lexer": "ipython3",
   "version": "3.8.8"
  }
 },
 "nbformat": 4,
 "nbformat_minor": 5
}
