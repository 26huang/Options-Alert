{
 "cells": [
  {
   "cell_type": "code",
   "execution_count": null,
   "id": "3fd02f99",
   "metadata": {},
   "outputs": [],
   "source": [
    "import pandas as pd\n",
    "import glob\n",
    "import datetime"
   ]
  },
  {
   "cell_type": "code",
   "execution_count": null,
   "id": "ca518528",
   "metadata": {},
   "outputs": [],
   "source": [
    "datapath = './Data'\n",
    "files = glob.glob(datapath+'/*chain*.json')\n",
    "files.sort()"
   ]
  },
  {
   "cell_type": "markdown",
   "id": "34efa963",
   "metadata": {},
   "source": [
    "# Extract Info From JSON Data"
   ]
  },
  {
   "cell_type": "code",
   "execution_count": null,
   "id": "e2e3ed1e",
   "metadata": {},
   "outputs": [],
   "source": [
    "def extract_data(data_in):\n",
    "    option_type = data_in.columns[-2:]\n",
    "    data_out = pd.DataFrame(columns=['optiontype', 'date', 'underlying_price', 'strike', 'description', 'delta', 'openinterest', 'total_investment'])\n",
    "    underlying_price = data_in['underlyingPrice'][0]\n",
    "    for option in option_type:\n",
    "        dates = data_in[option].keys()\n",
    "        for date in dates:\n",
    "            openinterest = []\n",
    "            description = []\n",
    "            delta = []\n",
    "            strikes = data_in[option][date].keys()\n",
    "            for strike in strikes:\n",
    "                openinterest.append(data_in[option][date][strike][0]['openInterest'])\n",
    "                description.append(data_in[option][date][strike][0]['description'])\n",
    "                delta.append(data_in[option][date][strike][0]['delta'])\n",
    "            temp = pd.DataFrame()\n",
    "            temp['openinterest'] = openinterest\n",
    "            temp['strike'] = strikes\n",
    "            temp['date'] = date.split(':')[0]\n",
    "            temp['optiontype'] = option[:-10]\n",
    "            temp['description'] = description\n",
    "            temp['delta'] = delta\n",
    "            data_out = data_out.append(temp)\n",
    "    data_out['underlying_price'] = underlying_price\n",
    "    data_out['total_investment'] = data_out.apply(lambda x: float(x.delta) * float(x.openinterest) * float(x.underlying_price) * 100, axis=1)\n",
    "    data_out['impact'] = data_out['total_investment'].apply(lambda x: abs(x))\n",
    "    return data_out"
   ]
  },
  {
   "cell_type": "markdown",
   "id": "0b81ad5f",
   "metadata": {},
   "source": [
    "# Total Investment By Chain"
   ]
  },
  {
   "cell_type": "code",
   "execution_count": null,
   "id": "a576422c",
   "metadata": {},
   "outputs": [],
   "source": [
    "datapath = './Data'\n",
    "def get_files(datapath):\n",
    "    files = glob.glob(datapath+'/*chain*.json')\n",
    "    files.sort()\n",
    "    return files"
   ]
  },
  {
   "cell_type": "code",
   "execution_count": null,
   "id": "7563795f",
   "metadata": {},
   "outputs": [],
   "source": [
    "def get_total_investment(files):\n",
    "    result = pd.DataFrame()\n",
    "    date = []\n",
    "    investment = []\n",
    "    underlying_price = []\n",
    "    for file in files:\n",
    "        date.append(file.split('_')[2])\n",
    "        data_in = pd.read_json(file)\n",
    "        data_out = extract_data(data_in)\n",
    "        investment.append(data_out['total_investment'].sum())\n",
    "        underlying_price.append(data_out['underlying_price'].max())\n",
    "    result['date'] = date\n",
    "    result['investment'] = investment\n",
    "    result['underlying_price'] = underlying_price\n",
    "    result['investment_change'] = (result['investment'] - result['investment'].shift(1))\n",
    "    result['underlying_price_change'] = result['underlying_price'] - result['underlying_price'].shift(1)\n",
    "    result['change_ratio'] = result['investment_change']/10e6/result['underlying_price_change']\n",
    "    return result"
   ]
  },
  {
   "cell_type": "markdown",
   "id": "83d6e7f4",
   "metadata": {},
   "source": [
    "# Get Historical Investment"
   ]
  },
  {
   "cell_type": "code",
   "execution_count": null,
   "id": "adca81c0",
   "metadata": {},
   "outputs": [],
   "source": [
    "files = get_files(datapath)\n",
    "historical_investment = get_total_investment(files)"
   ]
  },
  {
   "cell_type": "code",
   "execution_count": null,
   "id": "25d94b53",
   "metadata": {},
   "outputs": [],
   "source": [
    "historical_investment"
   ]
  },
  {
   "cell_type": "markdown",
   "id": "092c053f",
   "metadata": {},
   "source": [
    "# Get Today's Top Data"
   ]
  },
  {
   "cell_type": "code",
   "execution_count": null,
   "id": "84d11a10",
   "metadata": {},
   "outputs": [],
   "source": [
    "data_in = pd.read_json(files[-1])\n",
    "data_out = extract_data(data_in)"
   ]
  },
  {
   "cell_type": "code",
   "execution_count": null,
   "id": "b68b5529",
   "metadata": {},
   "outputs": [],
   "source": [
    "\n",
    "top_options = data_out.sort_values('impact', ascending=False).head(10).reset_index(drop=True)"
   ]
  },
  {
   "cell_type": "code",
   "execution_count": null,
   "id": "3f7b2731",
   "metadata": {},
   "outputs": [],
   "source": [
    "top_options"
   ]
  },
  {
   "cell_type": "code",
   "execution_count": null,
   "id": "5b9e20f8",
   "metadata": {},
   "outputs": [],
   "source": [
    "top_calls = data_out[data_out['optiontype']=='call'].sort_values('total_investment', ascending=False).reset_index(drop=True)"
   ]
  },
  {
   "cell_type": "code",
   "execution_count": null,
   "id": "2dd225fe",
   "metadata": {},
   "outputs": [],
   "source": [
    "top_calls.head(10)"
   ]
  },
  {
   "cell_type": "code",
   "execution_count": null,
   "id": "66257fd8",
   "metadata": {},
   "outputs": [],
   "source": [
    "top_puts = data_out[data_out['optiontype']=='put'].sort_values('total_investment', ascending=True).reset_index(drop=True)"
   ]
  },
  {
   "cell_type": "code",
   "execution_count": null,
   "id": "2c552bf1",
   "metadata": {},
   "outputs": [],
   "source": [
    "top_puts.head(10)"
   ]
  },
  {
   "cell_type": "code",
   "execution_count": null,
   "id": "99e30cf5",
   "metadata": {},
   "outputs": [],
   "source": [
    "data_in = pd.read_json(files[-2])\n",
    "d2 = extract_data(data_in)"
   ]
  },
  {
   "cell_type": "code",
   "execution_count": null,
   "id": "91920a37",
   "metadata": {},
   "outputs": [],
   "source": [
    "data_out = data_out[['description', 'total_investment']]\n",
    "d2 = d2[['description', 'total_investment']]\n",
    "merged_df = pd.merge(data_out, d2, on='description', suffixes=(\"_before\", \"_after\"))\n",
    "merged_df['change'] = merged_df.apply(lambda x: x.total_investment_after-x.total_investment_before, axis=1)"
   ]
  },
  {
   "cell_type": "code",
   "execution_count": null,
   "id": "f3003dfc",
   "metadata": {},
   "outputs": [],
   "source": [
    "top_delta = merged_df.sort_values('change', ascending=False).head(10).reset_index(drop=True)"
   ]
  },
  {
   "cell_type": "code",
   "execution_count": null,
   "id": "233a8e56",
   "metadata": {},
   "outputs": [],
   "source": [
    "top_delta"
   ]
  },
  {
   "cell_type": "code",
   "execution_count": null,
   "id": "924ba8da",
   "metadata": {},
   "outputs": [],
   "source": [
    "bottom_delta = merged_df.sort_values('change', ascending=True).head(10).reset_index(drop=True)"
   ]
  },
  {
   "cell_type": "code",
   "execution_count": null,
   "id": "70f023d5",
   "metadata": {},
   "outputs": [],
   "source": [
    "bottom_delta"
   ]
  },
  {
   "cell_type": "markdown",
   "id": "19b09a06",
   "metadata": {},
   "source": [
    "# Email Analysis"
   ]
  },
  {
   "cell_type": "code",
   "execution_count": null,
   "id": "b28bfe09",
   "metadata": {},
   "outputs": [],
   "source": [
    "import smtplib\n",
    "from email.mime.multipart import MIMEMultipart\n",
    "from email.mime.text import MIMEText"
   ]
  },
  {
   "cell_type": "code",
   "execution_count": null,
   "id": "91f5b231",
   "metadata": {},
   "outputs": [],
   "source": [
    "config = pd.read_json('./Data/config.json', typ='series')\n",
    "recipients = pd.read_json('./Data/mail_to.json', typ='series')\n",
    "timestamp = datetime.datetime.now().strftime(\"%Y-%m-%d\")\n",
    "botmail = config[\"botmail\"]\n",
    "botpw = config[\"botpw\"]\n",
    "subject = 'AMZN Report - ' + timestamp"
   ]
  },
  {
   "cell_type": "code",
   "execution_count": null,
   "id": "d47cceef",
   "metadata": {},
   "outputs": [],
   "source": [
    "def create_msg(historical_investment, top_options, top_calls, top_puts, top_delta, bottom_delta):\n",
    "    report = '<h>Historical Investment</h>'\n",
    "    report += historical_investment.head(10).to_html()\n",
    "    \n",
    "    report += '<br><br>'\n",
    "    report += '<h>Top Options</h>'\n",
    "    report += top_options.head(10).to_html()\n",
    "    \n",
    "    report += '<br><br>'\n",
    "    report += '<h>Top Calls</h>'\n",
    "    report += top_calls.head(10).to_html()\n",
    "\n",
    "    report += '<br><br>'\n",
    "    report += '<h>Top Puts</h>'\n",
    "    report += top_puts.head(10).to_html()\n",
    "\n",
    "    report += '<br><br>'\n",
    "    report += '<h>Top Deltas</h>'\n",
    "    report += top_delta.head(10).to_html()\n",
    "\n",
    "    report += '<br><br>'\n",
    "    report += '<h>Bottom Deltas</h>'\n",
    "    report += bottom_delta.head(10).to_html()\n",
    "    return report"
   ]
  },
  {
   "cell_type": "code",
   "execution_count": null,
   "id": "104fba42",
   "metadata": {},
   "outputs": [],
   "source": [
    "# for recipient in recipients:\n",
    "#     msg = MIMEMultipart('alternative')\n",
    "#     msg['Subject'] = subject\n",
    "#     msg['From'] = botmail\n",
    "#     msg['To'] = recipient\n",
    "\n",
    "#     report = create_msg(historical_investment, top_calls, top_puts, top_delta, bottom_delta)\n",
    "\n",
    "#     msg.attach(MIMEText(report, 'html'))\n",
    "\n",
    "#     server = smtplib.SMTP('smtp.gmail.com', 587)\n",
    "#     server.ehlo()\n",
    "#     server.starttls()\n",
    "#     server.login(botmail, botpw)\n",
    "\n",
    "#     server.sendmail(botmail, recipient, msg.as_string())\n",
    "#     server.quit()"
   ]
  },
  {
   "cell_type": "markdown",
   "id": "627f3a53",
   "metadata": {},
   "source": [
    "# Send Email via Gmail API"
   ]
  },
  {
   "cell_type": "code",
   "execution_count": null,
   "id": "241460cc",
   "metadata": {},
   "outputs": [],
   "source": [
    "import pickle\n",
    "import os\n",
    "from google_auth_oauthlib.flow import Flow, InstalledAppFlow\n",
    "from googleapiclient.discovery import build\n",
    "from googleapiclient.http import MediaFileUpload, MediaIoBaseDownload\n",
    "from google.auth.transport.requests import Request\n",
    "import base64\n",
    "from email.mime.multipart import MIMEMultipart\n",
    "from email.mime.text import MIMEText"
   ]
  },
  {
   "cell_type": "code",
   "execution_count": null,
   "id": "dd884630",
   "metadata": {},
   "outputs": [],
   "source": [
    "def Create_Service(client_secret_file, api_name, api_version, *scopes):\n",
    "    print(client_secret_file, api_name, api_version, scopes, sep='-')\n",
    "    CLIENT_SECRET_FILE = client_secret_file\n",
    "    API_SERVICE_NAME = api_name\n",
    "    API_VERSION = api_version\n",
    "    SCOPES = [scope for scope in scopes[0]]\n",
    "    print(SCOPES)\n",
    "\n",
    "    cred = None\n",
    "\n",
    "    pickle_file = f'./Data/token_{API_SERVICE_NAME}_{API_VERSION}.pickle'\n",
    "\n",
    "    if os.path.exists(pickle_file):\n",
    "        with open(pickle_file, 'rb') as token:\n",
    "            cred = pickle.load(token)\n",
    "\n",
    "    if not cred or not cred.valid:\n",
    "        if cred and cred.expired and cred.refresh_token:\n",
    "            cred.refresh(Request())\n",
    "        else:\n",
    "            flow = InstalledAppFlow.from_client_secrets_file(CLIENT_SECRET_FILE, SCOPES)\n",
    "            cred = flow.run_local_server()\n",
    "\n",
    "        with open(pickle_file, 'wb') as token:\n",
    "            pickle.dump(cred, token)\n",
    "\n",
    "    try:\n",
    "        service = build(API_SERVICE_NAME, API_VERSION, credentials=cred)\n",
    "        print(API_SERVICE_NAME, 'service created successfully')\n",
    "        return service\n",
    "    except Exception as e:\n",
    "        print('Unable to connect.')\n",
    "        print(e)\n",
    "        return None"
   ]
  },
  {
   "cell_type": "code",
   "execution_count": null,
   "id": "afd9d9fa",
   "metadata": {},
   "outputs": [],
   "source": [
    "CLIENT_SECRET_FILE = './Data/client_secret.json'\n",
    "API_NAME = 'gmail'\n",
    "API_VERSION = 'v1'\n",
    "SCOPES = ['https://mail.google.com/']\n",
    "config = pd.read_json('./Data/config.json', typ='series')\n",
    "recipients = pd.read_json('./Data/mail_to.json', typ='series')\n",
    "timestamp = datetime.datetime.now().strftime(\"%Y-%m-%d\")\n",
    "botmail = config[\"botmail\"]\n",
    "botpw = config[\"botpw\"]\n",
    "subject = 'AMZN Report - ' + timestamp\n",
    "service = Create_Service(CLIENT_SECRET_FILE, API_NAME, API_VERSION, SCOPES)\n",
    "\n",
    "for recipient in recipients:\n",
    "    emailMsg = create_msg(historical_investment, top_options, top_calls, top_puts, top_delta, bottom_delta)\n",
    "    mimeMessage = MIMEMultipart()\n",
    "    mimeMessage['to'] = recipient\n",
    "    mimeMessage['subject'] = subject\n",
    "#     mimeMessage.attach(MIMEText(emailMsg, 'plain'))\n",
    "    mimeMessage.attach(MIMEText(emailMsg, 'html'))\n",
    "    raw_string = base64.urlsafe_b64encode(mimeMessage.as_bytes()).decode()\n",
    "\n",
    "    message = service.users().messages().send(userId='me', body={'raw': raw_string}).execute()\n",
    "    print(message)"
   ]
  },
  {
   "cell_type": "code",
   "execution_count": null,
   "id": "77c7ff9b",
   "metadata": {},
   "outputs": [],
   "source": []
  }
 ],
 "metadata": {
  "kernelspec": {
   "display_name": "Python 3",
   "language": "python",
   "name": "python3"
  },
  "language_info": {
   "codemirror_mode": {
    "name": "ipython",
    "version": 3
   },
   "file_extension": ".py",
   "mimetype": "text/x-python",
   "name": "python",
   "nbconvert_exporter": "python",
   "pygments_lexer": "ipython3",
   "version": "3.8.8"
  }
 },
 "nbformat": 4,
 "nbformat_minor": 5
}
