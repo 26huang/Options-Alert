{
 "cells": [
  {
   "cell_type": "code",
   "execution_count": 1,
   "id": "3fd02f99",
   "metadata": {},
   "outputs": [],
   "source": [
    "import pandas as pd\n",
    "import glob\n",
    "import datetime"
   ]
  },
  {
   "cell_type": "code",
   "execution_count": 2,
   "id": "ca518528",
   "metadata": {},
   "outputs": [],
   "source": [
    "datapath = './Data'\n",
    "files = glob.glob(datapath+'/*chain*.json')\n",
    "files.sort()"
   ]
  },
  {
   "cell_type": "markdown",
   "id": "f78a1da2",
   "metadata": {},
   "source": [
    "# Extract Info From JSON Data"
   ]
  },
  {
   "cell_type": "code",
   "execution_count": null,
   "id": "e2e3ed1e",
   "metadata": {},
   "outputs": [],
   "source": [
    "def extract_data(data_in):\n",
    "    option_type = data_in.columns[-2:]\n",
    "    data_out = pd.DataFrame(columns=['optiontype', 'date', 'underlying_price', 'strike', 'description', 'delta', 'openinterest', 'total_investment'])\n",
    "    underlying_price = data_in['underlyingPrice'][0]\n",
    "    for option in option_type:\n",
    "        dates = data_in[option].keys()\n",
    "        for date in dates:\n",
    "            openinterest = []\n",
    "            description = []\n",
    "            delta = []\n",
    "            strikes = data_in[option][date].keys()\n",
    "            for strike in strikes:\n",
    "                openinterest.append(data_in[option][date][strike][0]['openInterest'])\n",
    "                description.append(data_in[option][date][strike][0]['description'])\n",
    "                delta.append(data_in[option][date][strike][0]['delta'])\n",
    "            temp = pd.DataFrame()\n",
    "            temp['openinterest'] = openinterest\n",
    "            temp['strike'] = strikes\n",
    "            temp['date'] = date.split(':')[0]\n",
    "            temp['optiontype'] = option[:-10]\n",
    "            temp['description'] = description\n",
    "            temp['delta'] = delta\n",
    "            data_out = data_out.append(temp)\n",
    "    data_out['underlying_price'] = underlying_price\n",
    "    data_out['total_investment'] = data_out.apply(lambda x: float(x.delta) * float(x.openinterest) * float(x.underlying_price) * 100, axis=1)\n",
    "    return data_out"
   ]
  },
  {
   "cell_type": "markdown",
   "id": "72f7072c",
   "metadata": {},
   "source": [
    "# Total Investment By Chain"
   ]
  },
  {
   "cell_type": "code",
   "execution_count": null,
   "id": "90400a6f",
   "metadata": {},
   "outputs": [],
   "source": [
    "datapath = './Data'\n",
    "def get_files(datapath):\n",
    "    files = glob.glob(datapath+'/*chain*.json')\n",
    "    files.sort()\n",
    "    return files"
   ]
  },
  {
   "cell_type": "code",
   "execution_count": null,
   "id": "62187291",
   "metadata": {},
   "outputs": [],
   "source": [
    "def get_total_investment(files):\n",
    "    result = pd.DataFrame()\n",
    "    date = []\n",
    "    investment = []\n",
    "    underlying_price = []\n",
    "    for file in files:\n",
    "        date.append(file.split('_')[2])\n",
    "        data_in = pd.read_json(file)\n",
    "        data_out = extract_data(data_in)\n",
    "        investment.append(data_out['total_investment'].sum())\n",
    "        underlying_price.append(data_out['underlying_price'].max())\n",
    "    result['date'] = date\n",
    "    result['investment'] = investment\n",
    "    result['underlying_price'] = underlying_price\n",
    "    return result"
   ]
  },
  {
   "cell_type": "markdown",
   "id": "cd95567a",
   "metadata": {},
   "source": [
    "# Get Historical Investment"
   ]
  },
  {
   "cell_type": "code",
   "execution_count": null,
   "id": "0e6e7315",
   "metadata": {},
   "outputs": [],
   "source": [
    "files = get_files(datapath)\n",
    "historical_investment = get_total_investment(files)"
   ]
  },
  {
   "cell_type": "code",
   "execution_count": null,
   "id": "1a682321",
   "metadata": {},
   "outputs": [],
   "source": [
    "historical_investment"
   ]
  },
  {
   "cell_type": "markdown",
   "id": "ade6d7eb",
   "metadata": {},
   "source": [
    "# Get Today's Top Data"
   ]
  },
  {
   "cell_type": "code",
   "execution_count": null,
   "id": "755344e4",
   "metadata": {},
   "outputs": [],
   "source": [
    "data_in = pd.read_json(files[-1])\n",
    "data_out = extract_data(data_in)"
   ]
  },
  {
   "cell_type": "code",
   "execution_count": null,
   "id": "5b9e20f8",
   "metadata": {},
   "outputs": [],
   "source": [
    "top_calls = data_out[data_out['optiontype']=='call'].sort_values('total_investment', ascending=False)\n",
    "# top_calls = top_calls[top_calls['openinterest']>=1000].reset_index(drop=True)"
   ]
  },
  {
   "cell_type": "code",
   "execution_count": null,
   "id": "8effdd9d",
   "metadata": {},
   "outputs": [],
   "source": [
    "top_calls.head(10)"
   ]
  },
  {
   "cell_type": "code",
   "execution_count": null,
   "id": "66257fd8",
   "metadata": {},
   "outputs": [],
   "source": [
    "top_puts = data_out[data_out['optiontype']=='put'].sort_values('total_investment', ascending=True)\n",
    "# top_puts = top_puts[top_puts['openinterest'] >= 1000].reset_index(drop=True)"
   ]
  },
  {
   "cell_type": "code",
   "execution_count": null,
   "id": "ee5b32fa",
   "metadata": {},
   "outputs": [],
   "source": [
    "top_puts.head(10)"
   ]
  },
  {
   "cell_type": "code",
   "execution_count": null,
   "id": "b68b5529",
   "metadata": {},
   "outputs": [],
   "source": [
    "top_options = data_out.sort_values('total_investment', ascending=False).head(10).reset_index(drop=True)"
   ]
  },
  {
   "cell_type": "code",
   "execution_count": null,
   "id": "c5436854",
   "metadata": {},
   "outputs": [],
   "source": [
    "top_options"
   ]
  },
  {
   "cell_type": "code",
   "execution_count": null,
   "id": "99e30cf5",
   "metadata": {},
   "outputs": [],
   "source": [
    "data_in = pd.read_json(files[-2])\n",
    "d2 = extract_data(data_in)"
   ]
  },
  {
   "cell_type": "code",
   "execution_count": null,
   "id": "91920a37",
   "metadata": {},
   "outputs": [],
   "source": [
    "# data_out['name'] = data_out.apply(lambda x: (x.optiontype+'_'+x.date+'_'+x.strike), axis=1)\n",
    "# d2['name'] = d2.apply(lambda x: (x.optiontype+'_'+x.date+'_'+x.strike), axis=1)\n",
    "data_out = data_out[['description', 'total_investment']]\n",
    "d2 = d2[['description', 'total_investment']]\n",
    "merged_df = pd.merge(data_out, d2, on='description', suffixes=(\"_before\", \"_after\"))\n",
    "merged_df['change'] = merged_df.apply(lambda x: x.total_investment_after-x.total_investment_before, axis=1)"
   ]
  },
  {
   "cell_type": "code",
   "execution_count": null,
   "id": "f3003dfc",
   "metadata": {},
   "outputs": [],
   "source": [
    "top_delta = merged_df.sort_values('change', ascending=False).head(10).reset_index(drop=True)"
   ]
  },
  {
   "cell_type": "code",
   "execution_count": null,
   "id": "d58656f7",
   "metadata": {},
   "outputs": [],
   "source": [
    "top_delta"
   ]
  },
  {
   "cell_type": "code",
   "execution_count": null,
   "id": "924ba8da",
   "metadata": {},
   "outputs": [],
   "source": [
    "bottom_delta = merged_df.sort_values('change', ascending=True).head(10).reset_index(drop=True)"
   ]
  },
  {
   "cell_type": "code",
   "execution_count": null,
   "id": "35b6706e",
   "metadata": {},
   "outputs": [],
   "source": [
    "bottom_delta"
   ]
  },
  {
   "cell_type": "markdown",
   "id": "d5771242",
   "metadata": {},
   "source": [
    "# Email Analysis"
   ]
  },
  {
   "cell_type": "code",
   "execution_count": null,
   "id": "e5837b8d",
   "metadata": {},
   "outputs": [],
   "source": [
    "import smtplib\n",
    "from email.mime.multipart import MIMEMultipart\n",
    "from email.mime.text import MIMEText"
   ]
  },
  {
   "cell_type": "code",
   "execution_count": null,
   "id": "23bc7862",
   "metadata": {},
   "outputs": [],
   "source": [
    "config = pd.read_json('./Data/config.json', typ='series')\n",
    "recipients = pd.read_json('./Data/mail_to.json', typ='series')\n",
    "timestamp = datetime.datetime.now().strftime(\"%Y-%m-%d\")\n",
    "botmail = config[\"botmail\"]\n",
    "botpw = config[\"botpw\"]\n",
    "subject = 'AMZN Report - ' + timestamp"
   ]
  },
  {
   "cell_type": "code",
   "execution_count": null,
   "id": "f3efa356",
   "metadata": {},
   "outputs": [],
   "source": [
    "def create_msg(historical_investment, top_calls, top_puts, top_delta, bottom_delta):\n",
    "    report = '<h>Historical Investment</h>'\n",
    "    report += historical_investment.head(10).to_html()\n",
    "\n",
    "    report += '<br><br>'\n",
    "    report += '<h>Top Calls</h>'\n",
    "    report += top_calls.head(10).to_html()\n",
    "\n",
    "    report += '<br><br>'\n",
    "    report += '<h>Top Puts</h>'\n",
    "    report += top_puts.head(10).to_html()\n",
    "\n",
    "    report += '<br><br>'\n",
    "    report += '<h>Top Deltas</h>'\n",
    "    report += top_delta.head(10).to_html()\n",
    "\n",
    "    report += '<br><br>'\n",
    "    report += '<h>Top Deltas</h>'\n",
    "    report += bottom_delta.head(10).to_html()\n",
    "    return report"
   ]
  },
  {
   "cell_type": "code",
   "execution_count": null,
   "id": "756fa32d",
   "metadata": {},
   "outputs": [],
   "source": [
    "for recipient in recipients:\n",
    "    msg = MIMEMultipart('alternative')\n",
    "    msg['Subject'] = subject\n",
    "    msg['From'] = botmail\n",
    "    msg['To'] = recipient\n",
    "\n",
    "    report = create_msg(historical_investment, top_calls, top_puts, top_delta, bottom_delta)\n",
    "\n",
    "    msg.attach(MIMEText(report, 'html'))\n",
    "\n",
    "    server = smtplib.SMTP('smtp.gmail.com', 587)\n",
    "    server.ehlo()\n",
    "    server.starttls()\n",
    "    server.login(botmail, botpw)\n",
    "\n",
    "    server.sendmail(botmail, recipient, msg.as_string())\n",
    "    server.quit()"
   ]
  }
 ],
 "metadata": {
  "kernelspec": {
   "display_name": "Python 3",
   "language": "python",
   "name": "python3"
  },
  "language_info": {
   "codemirror_mode": {
    "name": "ipython",
    "version": 3
   },
   "file_extension": ".py",
   "mimetype": "text/x-python",
   "name": "python",
   "nbconvert_exporter": "python",
   "pygments_lexer": "ipython3",
   "version": "3.8.8"
  }
 },
 "nbformat": 4,
 "nbformat_minor": 5
}
