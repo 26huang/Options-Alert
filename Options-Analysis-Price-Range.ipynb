{
 "cells": [
  {
   "cell_type": "code",
   "execution_count": null,
   "id": "dfe28978",
   "metadata": {},
   "outputs": [],
   "source": [
    "import pandas as pd\n",
    "import glob\n",
    "import datetime"
   ]
  },
  {
   "cell_type": "code",
   "execution_count": null,
   "id": "e4a0f187",
   "metadata": {},
   "outputs": [],
   "source": [
    "def extract_data(data_in):\n",
    "    option_type = data_in.columns[-2:]\n",
    "    data_out = pd.DataFrame(columns=['optiontype', 'date', 'underlying_price', 'strike', 'description', 'delta', 'openinterest', 'total_investment'])\n",
    "    underlying_price = data_in['underlyingPrice'][0]\n",
    "    for option in option_type:\n",
    "        dates = data_in[option].keys()\n",
    "        for date in dates:\n",
    "            openinterest = []\n",
    "            description = []\n",
    "            delta = []\n",
    "            strikes = data_in[option][date].keys()\n",
    "            for strike in strikes:\n",
    "                openinterest.append(data_in[option][date][strike][0]['openInterest'])\n",
    "                description.append(data_in[option][date][strike][0]['description'])\n",
    "                delta.append(data_in[option][date][strike][0]['delta'])\n",
    "            temp = pd.DataFrame()\n",
    "            temp['openinterest'] = openinterest\n",
    "            temp['strike'] = strikes\n",
    "            temp['date'] = date.split(':')[0]\n",
    "            temp['optiontype'] = option[:-10]\n",
    "            temp['description'] = description\n",
    "            temp['delta'] = delta\n",
    "            data_out = data_out.append(temp)\n",
    "    data_out['underlying_price'] = underlying_price\n",
    "    data_out['total_investment'] = data_out.apply(lambda x: float(x.delta) * float(x.openinterest) * float(x.underlying_price) * 100, axis=1)\n",
    "    data_out['impact'] = data_out['total_investment'].apply(lambda x: abs(x))\n",
    "    return data_out"
   ]
  },
  {
   "cell_type": "code",
   "execution_count": null,
   "id": "dde01ead",
   "metadata": {},
   "outputs": [],
   "source": [
    "datapath = './Data'\n",
    "def get_files(datapath):\n",
    "    files = glob.glob(datapath+'/*chain*.json')\n",
    "    files.sort()\n",
    "    return files"
   ]
  },
  {
   "cell_type": "code",
   "execution_count": null,
   "id": "24a03726",
   "metadata": {},
   "outputs": [],
   "source": [
    "def get_total_investment(files):\n",
    "    result = pd.DataFrame()\n",
    "    date = []\n",
    "    investment = []\n",
    "    underlying_price = []\n",
    "    for file in files:\n",
    "        date.append(file.split('_')[2])\n",
    "        data_in = pd.read_json(file)\n",
    "        data_out = extract_data(data_in)\n",
    "        investment.append(data_out['total_investment'].sum())\n",
    "        underlying_price.append(data_out['underlying_price'].max())\n",
    "    result['date'] = date\n",
    "    result['investment'] = investment\n",
    "    result['underlying_price'] = underlying_price\n",
    "    result['investment_change'] = (result['investment'] - result['investment'].shift(1))\n",
    "    result['underlying_price_change'] = result['underlying_price'] - result['underlying_price'].shift(1)\n",
    "    result['change_ratio'] = result['investment_change']/10e6/abs(result['underlying_price_change'])\n",
    "    return result"
   ]
  },
  {
   "cell_type": "code",
   "execution_count": null,
   "id": "63a86de8",
   "metadata": {},
   "outputs": [],
   "source": [
    "def get_price_range():\n",
    "    files = get_files(datapath)\n",
    "    data_in = pd.read_json(files[-1])\n",
    "    data_out = extract_data(data_in)\n",
    "    expiration_dates = list(data_out['date'].unique())\n",
    "    price_low = []\n",
    "    price_high = []\n",
    "    for date in expiration_dates:\n",
    "        call_data = data_out[(data_out['date']==date) & (data_out['optiontype']=='call')].sort_values('impact', ascending=False).reset_index(drop=True)\n",
    "        call_invested = call_data['impact'].sum()\n",
    "        call_data['impact_percent'] = call_data['impact'].apply(lambda x: x/call_invested)\n",
    "        call_data['impact_price'] = call_data.apply(lambda x: x.impact_percent*float(x.strike), axis=1)\n",
    "        price_low.append(call_data['impact_price'].sum())\n",
    "\n",
    "        put_data = data_out[(data_out['date']==date) & (data_out['optiontype']=='put')].sort_values('impact', ascending=False).reset_index(drop=True)\n",
    "        put_invested = put_data['impact'].sum()\n",
    "        put_data['impact_percent'] = put_data['impact'].apply(lambda x: x/put_invested)\n",
    "        put_data['impact_price'] = put_data.apply(lambda x: x.impact_percent*float(x.strike), axis=1)\n",
    "        price_high.append(put_data['impact_price'].sum())\n",
    "    price_range = pd.DataFrame()\n",
    "    price_range['date'] = expiration_dates\n",
    "    price_range['low']  = price_low\n",
    "    price_range['high'] = price_high\n",
    "    return price_range"
   ]
  },
  {
   "cell_type": "code",
   "execution_count": null,
   "id": "b312e8f6",
   "metadata": {},
   "outputs": [],
   "source": [
    "get_price_range()"
   ]
  },
  {
   "cell_type": "code",
   "execution_count": null,
   "id": "f6a2010f",
   "metadata": {},
   "outputs": [],
   "source": []
  }
 ],
 "metadata": {
  "kernelspec": {
   "display_name": "Python 3",
   "language": "python",
   "name": "python3"
  },
  "language_info": {
   "codemirror_mode": {
    "name": "ipython",
    "version": 3
   },
   "file_extension": ".py",
   "mimetype": "text/x-python",
   "name": "python",
   "nbconvert_exporter": "python",
   "pygments_lexer": "ipython3",
   "version": "3.8.8"
  }
 },
 "nbformat": 4,
 "nbformat_minor": 5
}
