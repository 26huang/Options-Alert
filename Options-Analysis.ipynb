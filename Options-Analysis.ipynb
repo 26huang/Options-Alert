{
 "cells": [
  {
   "cell_type": "code",
   "execution_count": null,
   "id": "c795969e",
   "metadata": {},
   "outputs": [],
   "source": [
    "import pandas as pd\n",
    "import glob\n",
    "import datetime"
   ]
  },
  {
   "cell_type": "code",
   "execution_count": null,
   "id": "5ea5230b",
   "metadata": {},
   "outputs": [],
   "source": [
    "datapath = './Data'"
   ]
  },
  {
   "cell_type": "code",
   "execution_count": null,
   "id": "69e7f751",
   "metadata": {},
   "outputs": [],
   "source": [
    "files = glob.glob(datapath+'/*chain*.json')\n",
    "files.sort()"
   ]
  },
  {
   "cell_type": "code",
   "execution_count": null,
   "id": "976c30a3",
   "metadata": {},
   "outputs": [],
   "source": [
    "def extract_openinterest(data_in):\n",
    "    option_type = ['callExpDateMap', 'putExpDateMap']\n",
    "    data_out = pd.DataFrame(columns=['optiontype', 'date', 'strike', 'openinterest'])\n",
    "    for option in option_type:\n",
    "        dates = data_in[option].keys()\n",
    "        for date in dates:\n",
    "            openinterest = []\n",
    "            strikes = data_in[option][date].keys()\n",
    "            for strike in strikes:\n",
    "                openinterest.append(data_in[option][date][strike][0]['openInterest'])\n",
    "            temp = pd.DataFrame()\n",
    "            temp['openinterest'] = openinterest\n",
    "            temp['strike'] = strikes\n",
    "            temp['date'] = date.split(':')[0]\n",
    "            temp['optiontype'] = option[:-10]\n",
    "            data_out = data_out.append(temp)\n",
    "    return data_out"
   ]
  },
  {
   "cell_type": "code",
   "execution_count": null,
   "id": "f6af567d",
   "metadata": {},
   "outputs": [],
   "source": [
    "data_in = pd.read_json(files[-1])\n",
    "data_out = extract_openinterest(data_in)"
   ]
  },
  {
   "cell_type": "code",
   "execution_count": null,
   "id": "8865eada",
   "metadata": {},
   "outputs": [],
   "source": [
    "top_calls = data_out[data_out['optiontype']=='call'].sort_values('openinterest', ascending=False)\n",
    "top_calls = top_calls[top_calls['openinterest']>=1000].reset_index(drop=True)"
   ]
  },
  {
   "cell_type": "code",
   "execution_count": null,
   "id": "916b0181",
   "metadata": {},
   "outputs": [],
   "source": [
    "top_puts = data_out[data_out['optiontype']=='put'].sort_values('openinterest', ascending=False)\n",
    "top_puts = top_puts[top_puts['openinterest'] >= 1000].reset_index(drop=True)"
   ]
  },
  {
   "cell_type": "code",
   "execution_count": null,
   "id": "c46730ff",
   "metadata": {},
   "outputs": [],
   "source": [
    "top_options = data_out.sort_values('openinterest', ascending=False).head(10).reset_index(drop=True)"
   ]
  },
  {
   "cell_type": "code",
   "execution_count": null,
   "id": "c5142d0d",
   "metadata": {},
   "outputs": [],
   "source": [
    "data_in = pd.read_json(files[-2])\n",
    "d2 = extract_openinterest(data_in)"
   ]
  },
  {
   "cell_type": "code",
   "execution_count": null,
   "id": "942bcc2c",
   "metadata": {},
   "outputs": [],
   "source": [
    "data_out['name'] = data_out.apply(lambda x: (x.optiontype+'_'+x.date+'_'+x.strike), axis=1)\n",
    "d2['name'] = d2.apply(lambda x: (x.optiontype+'_'+x.date+'_'+x.strike), axis=1)\n",
    "data_out = data_out[['name', 'openinterest']]\n",
    "d2 = d2[['name', 'openinterest']]\n",
    "merged_df = pd.merge(data_out, d2, on='name', suffixes=(\"_before\", \"_after\"))\n",
    "merged_df['change'] = merged_df.apply(lambda x: x.openinterest_after-x.openinterest_before, axis=1)"
   ]
  },
  {
   "cell_type": "code",
   "execution_count": null,
   "id": "e906ca5d",
   "metadata": {},
   "outputs": [],
   "source": [
    "top_delta = merged_df.sort_values('change', ascending=False).head(10).reset_index(drop=True)"
   ]
  },
  {
   "cell_type": "code",
   "execution_count": null,
   "id": "eb070c89",
   "metadata": {},
   "outputs": [],
   "source": [
    "bottom_delta = merged_df.sort_values('change', ascending=True).head(10).reset_index(drop=True)"
   ]
  },
  {
   "cell_type": "code",
   "execution_count": null,
   "id": "b26f0b8f",
   "metadata": {},
   "outputs": [],
   "source": [
    "data = [top_calls, top_puts, top_options, top_delta, bottom_delta]\n",
    "subjects = ['Top Calls', 'Top Puts', 'Top Options', 'Top Delta', 'Bottom Delta']"
   ]
  },
  {
   "cell_type": "code",
   "execution_count": null,
   "id": "e97f5da4",
   "metadata": {},
   "outputs": [],
   "source": [
    "def configure_mail(data, subject):\n",
    "    config = pd.read_json('./Data/config.json', typ='series')\n",
    "    recipients = pd.read_json('./Data/mail_to.json', typ='series')\n",
    "    timestamp = datetime.datetime.now().strftime(\"%Y-%m-%d\")\n",
    "    botmail = config[\"botmail\"]\n",
    "    botpw = config[\"botpw\"]\n",
    "    subject = 'AMZN OI Report - {} - '.format(subject) + timestamp\n",
    "    for name, email in recipients.items():\n",
    "        recipient = email\n",
    "        send_email(botmail, botpw, email, subject, data)"
   ]
  },
  {
   "cell_type": "code",
   "execution_count": null,
   "id": "1bb2949c",
   "metadata": {},
   "outputs": [],
   "source": [
    "import smtplib\n",
    "from email.mime.multipart import MIMEMultipart\n",
    "from email.mime.text import MIMEText\n",
    "\n",
    "def send_email(botmail, botpw, recipient, subject, data):    \n",
    "    msg = MIMEMultipart('alternative')\n",
    "    msg['Subject'] = subject\n",
    "    msg['From'] = botmail\n",
    "    msg['To'] = recipient\n",
    "\n",
    "    html = data.to_html()\n",
    "    msg.attach(MIMEText(html, 'html'))\n",
    "\n",
    "    server = smtplib.SMTP('smtp.gmail.com', 587)\n",
    "    server.ehlo()\n",
    "    server.starttls()\n",
    "    server.login(botmail, botpw)\n",
    "\n",
    "    server.sendmail(botmail, recipient, msg.as_string())\n",
    "    server.quit()"
   ]
  },
  {
   "cell_type": "code",
   "execution_count": null,
   "id": "90a125f3",
   "metadata": {},
   "outputs": [],
   "source": [
    "for i in range(len(subjects)):\n",
    "    configure_mail(data[i], subjects[i])"
   ]
  },
  {
   "cell_type": "code",
   "execution_count": null,
   "id": "fb85c58b",
   "metadata": {},
   "outputs": [],
   "source": []
  }
 ],
 "metadata": {
  "kernelspec": {
   "display_name": "Python 3",
   "language": "python",
   "name": "python3"
  },
  "language_info": {
   "codemirror_mode": {
    "name": "ipython",
    "version": 3
   },
   "file_extension": ".py",
   "mimetype": "text/x-python",
   "name": "python",
   "nbconvert_exporter": "python",
   "pygments_lexer": "ipython3",
   "version": "3.8.8"
  }
 },
 "nbformat": 4,
 "nbformat_minor": 5
}
